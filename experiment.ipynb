{
 "cells": [
  {
   "cell_type": "markdown",
   "id": "afc707ff",
   "metadata": {},
   "source": [
    "# 《金融计算》 & 《量化投资》课程期末实验设计\n",
    "\n",
    "注：由于课程论文的要求需要**金融化、学术化**，而本项目个人认为更多还是偏LLM的计算机AI方向的应用，所以会复用一些函数，但不会全部使用，尤其Agent协作部分，由于每次LLM生成的不确定性，会谨慎纳入考量。\n",
    "\n",
    "Python环境与本项目使用的一致。"
   ]
  }
 ],
 "metadata": {
  "kernelspec": {
   "display_name": "stock",
   "language": "python",
   "name": "python3"
  },
  "language_info": {
   "name": "python",
   "version": "3.10.0"
  }
 },
 "nbformat": 4,
 "nbformat_minor": 5
}
